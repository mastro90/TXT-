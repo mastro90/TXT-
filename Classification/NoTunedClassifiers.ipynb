{
 "cells": [
  {
   "cell_type": "code",
   "execution_count": 1,
   "metadata": {},
   "outputs": [],
   "source": [
    "# Utilities\n",
    "\n",
    "\n",
    "import pandas as pd\n",
    "from sklearn.metrics import *\n",
    "from sklearn.model_selection import train_test_split, cross_val_score\n",
    "from sklearn.pipeline import make_pipeline, Pipeline\n",
    "from sklearn.feature_extraction.text import TfidfTransformer, TfidfVectorizer, CountVectorizer\n",
    "from sklearn.naive_bayes import MultinomialNB\n",
    "from sklearn.neighbors import KNeighborsClassifier\n",
    "from sklearn.tree import DecisionTreeClassifier\n",
    "from sklearn.svm import LinearSVC\n",
    "from sklearn.feature_selection import SelectKBest, chi2"
   ]
  },
  {
   "cell_type": "code",
   "execution_count": 2,
   "metadata": {},
   "outputs": [
    {
     "data": {
      "text/html": [
       "<div>\n",
       "<style scoped>\n",
       "    .dataframe tbody tr th:only-of-type {\n",
       "        vertical-align: middle;\n",
       "    }\n",
       "\n",
       "    .dataframe tbody tr th {\n",
       "        vertical-align: top;\n",
       "    }\n",
       "\n",
       "    .dataframe thead th {\n",
       "        text-align: right;\n",
       "    }\n",
       "</style>\n",
       "<table border=\"1\" class=\"dataframe\">\n",
       "  <thead>\n",
       "    <tr style=\"text-align: right;\">\n",
       "      <th></th>\n",
       "      <th>Toxicity</th>\n",
       "      <th>tweet</th>\n",
       "      <th>tweet_clean</th>\n",
       "      <th>tweet_tokenized</th>\n",
       "      <th>tweet_tok=2</th>\n",
       "      <th>tweet_lemmatized</th>\n",
       "      <th>preprocessed_text</th>\n",
       "    </tr>\n",
       "  </thead>\n",
       "  <tbody>\n",
       "    <tr>\n",
       "      <th>0</th>\n",
       "      <td>0</td>\n",
       "      <td>@user when a father is dysfunctional and is so...</td>\n",
       "      <td>father dysfunctional selfish drags kids dysfun...</td>\n",
       "      <td>['father', 'dysfunctional', 'selfish', 'drags'...</td>\n",
       "      <td>[('father', 'dysfunctional'), ('dysfunctional'...</td>\n",
       "      <td>['father', 'dysfunctional', 'selfish', 'drag',...</td>\n",
       "      <td>father dysfunctional selfish drag kid dysfunct...</td>\n",
       "    </tr>\n",
       "    <tr>\n",
       "      <th>1</th>\n",
       "      <td>0</td>\n",
       "      <td>@user @user thanks for #lyft credit i can't us...</td>\n",
       "      <td>thanks lyft credit  can not use cause  do not ...</td>\n",
       "      <td>['thanks', 'lyft', 'credit', 'can', 'not', 'us...</td>\n",
       "      <td>[('thanks', 'lyft'), ('lyft', 'credit'), ('cre...</td>\n",
       "      <td>['thank', 'lyft', 'credit', 'can', 'not', 'use...</td>\n",
       "      <td>thank lyft credit can not use cause do not off...</td>\n",
       "    </tr>\n",
       "    <tr>\n",
       "      <th>2</th>\n",
       "      <td>0</td>\n",
       "      <td>bihday your majesty</td>\n",
       "      <td>bihday majesty</td>\n",
       "      <td>['bihday', 'majesty']</td>\n",
       "      <td>[('bihday', 'majesty')]</td>\n",
       "      <td>['bihday', 'majesty']</td>\n",
       "      <td>bihday majesty</td>\n",
       "    </tr>\n",
       "    <tr>\n",
       "      <th>3</th>\n",
       "      <td>0</td>\n",
       "      <td>factsguide: society now    #motivation</td>\n",
       "      <td>factsguide society motivation</td>\n",
       "      <td>['factsguide', 'society', 'motivation']</td>\n",
       "      <td>[('factsguide', 'society'), ('society', 'motiv...</td>\n",
       "      <td>['factsguide', 'society', 'motivation']</td>\n",
       "      <td>factsguide society motivation</td>\n",
       "    </tr>\n",
       "    <tr>\n",
       "      <th>4</th>\n",
       "      <td>0</td>\n",
       "      <td>[2/2] huge fan fare and big talking before the...</td>\n",
       "      <td>huge fan fare big talking leave chaos pay disp...</td>\n",
       "      <td>['huge', 'fan', 'fare', 'big', 'talking', 'lea...</td>\n",
       "      <td>[('huge', 'fan'), ('fan', 'fare'), ('fare', 'b...</td>\n",
       "      <td>['huge', 'fan', 'fare', 'big', 'talk', 'leave'...</td>\n",
       "      <td>huge fan fare big talk leave chaos pay dispute...</td>\n",
       "    </tr>\n",
       "  </tbody>\n",
       "</table>\n",
       "</div>"
      ],
      "text/plain": [
       "   Toxicity                                              tweet  \\\n",
       "0         0  @user when a father is dysfunctional and is so...   \n",
       "1         0  @user @user thanks for #lyft credit i can't us...   \n",
       "2         0                                bihday your majesty   \n",
       "3         0             factsguide: society now    #motivation   \n",
       "4         0  [2/2] huge fan fare and big talking before the...   \n",
       "\n",
       "                                         tweet_clean  \\\n",
       "0  father dysfunctional selfish drags kids dysfun...   \n",
       "1  thanks lyft credit  can not use cause  do not ...   \n",
       "2                                     bihday majesty   \n",
       "3                      factsguide society motivation   \n",
       "4  huge fan fare big talking leave chaos pay disp...   \n",
       "\n",
       "                                     tweet_tokenized  \\\n",
       "0  ['father', 'dysfunctional', 'selfish', 'drags'...   \n",
       "1  ['thanks', 'lyft', 'credit', 'can', 'not', 'us...   \n",
       "2                              ['bihday', 'majesty']   \n",
       "3            ['factsguide', 'society', 'motivation']   \n",
       "4  ['huge', 'fan', 'fare', 'big', 'talking', 'lea...   \n",
       "\n",
       "                                         tweet_tok=2  \\\n",
       "0  [('father', 'dysfunctional'), ('dysfunctional'...   \n",
       "1  [('thanks', 'lyft'), ('lyft', 'credit'), ('cre...   \n",
       "2                            [('bihday', 'majesty')]   \n",
       "3  [('factsguide', 'society'), ('society', 'motiv...   \n",
       "4  [('huge', 'fan'), ('fan', 'fare'), ('fare', 'b...   \n",
       "\n",
       "                                    tweet_lemmatized  \\\n",
       "0  ['father', 'dysfunctional', 'selfish', 'drag',...   \n",
       "1  ['thank', 'lyft', 'credit', 'can', 'not', 'use...   \n",
       "2                              ['bihday', 'majesty']   \n",
       "3            ['factsguide', 'society', 'motivation']   \n",
       "4  ['huge', 'fan', 'fare', 'big', 'talk', 'leave'...   \n",
       "\n",
       "                                   preprocessed_text  \n",
       "0  father dysfunctional selfish drag kid dysfunct...  \n",
       "1  thank lyft credit can not use cause do not off...  \n",
       "2                                    bihday majesty   \n",
       "3                     factsguide society motivation   \n",
       "4  huge fan fare big talk leave chaos pay dispute...  "
      ]
     },
     "execution_count": 2,
     "metadata": {},
     "output_type": "execute_result"
    }
   ],
   "source": [
    "df = pd.read_csv(\"CleanDataset.csv\")\n",
    "df.head()\n"
   ]
  },
  {
   "cell_type": "code",
   "execution_count": 3,
   "metadata": {},
   "outputs": [],
   "source": [
    "X = df['preprocessed_text']\n",
    "y = df[\"Toxicity\"]\n",
    "X_train, X_test, y_train, y_test = train_test_split(X, y, test_size=0.3,random_state=1000)"
   ]
  },
  {
   "cell_type": "code",
   "execution_count": 4,
   "metadata": {},
   "outputs": [],
   "source": [
    "\n",
    "def model_evaluation(real_v, pred_v):\n",
    "    print(f\"Accuracy sore: {accuracy_score(real_v, pred_v)}\")\n",
    "    print(\"Classification report:\")\n",
    "    print(classification_report(real_v, pred_v))\n",
    "    cm = confusion_matrix(real_v, pred_v)\n",
    "    print (f\"Confusion matrix \\n {cm}\")"
   ]
  },
  {
   "cell_type": "code",
   "execution_count": 5,
   "metadata": {},
   "outputs": [],
   "source": [
    "vect = CountVectorizer(min_df=5,ngram_range = (1,2))  # Convert a collection of text documents to a matrix of token counts.\n",
    "vect.fit(X_train)\n",
    "X_train_tok = vect.fit_transform(X_train)\n",
    "X_test_tok =vect.transform(X_test)"
   ]
  },
  {
   "attachments": {},
   "cell_type": "markdown",
   "metadata": {},
   "source": [
    "# LinearSVC"
   ]
  },
  {
   "cell_type": "code",
   "execution_count": 6,
   "metadata": {},
   "outputs": [],
   "source": [
    "bin_pipeline = Pipeline([\n",
    "    ('sel', SelectKBest(chi2, k=450)),  # feature selection\n",
    "    ('tfidf', TfidfTransformer()),  # weighting\n",
    "    ('learner', LinearSVC())  # learning algorithm\n",
    "])\n",
    "\n",
    "bin_pipeline.fit(X_train_tok,y_train)\n",
    "bin_predictions = bin_pipeline.predict(X_test_tok)"
   ]
  },
  {
   "cell_type": "code",
   "execution_count": 7,
   "metadata": {},
   "outputs": [
    {
     "name": "stdout",
     "output_type": "stream",
     "text": [
      "Accuracy sore: 0.9251261738963777\n",
      "Classification report:\n",
      "              precision    recall  f1-score   support\n",
      "\n",
      "           0       0.91      0.96      0.93      8713\n",
      "           1       0.95      0.88      0.91      6940\n",
      "\n",
      "    accuracy                           0.93     15653\n",
      "   macro avg       0.93      0.92      0.92     15653\n",
      "weighted avg       0.93      0.93      0.92     15653\n",
      "\n",
      "Confusion matrix \n",
      " [[8403  310]\n",
      " [ 862 6078]]\n"
     ]
    }
   ],
   "source": [
    "model_evaluation(y_test,bin_predictions)"
   ]
  },
  {
   "cell_type": "markdown",
   "metadata": {},
   "source": [
    "# NAIVE BAYES"
   ]
  },
  {
   "cell_type": "code",
   "execution_count": 8,
   "metadata": {},
   "outputs": [],
   "source": [
    "nb_bin_pipeline = Pipeline([\n",
    "    ('sel', SelectKBest(chi2, k=1000)),  # feature selection\n",
    "    ('tfidf', TfidfTransformer()),  # weighting\n",
    "    ('learner', MultinomialNB())  # learning algorithm\n",
    "])\n",
    "\n",
    "nb_bin_pipeline.fit(X_train_tok,y_train)\n",
    "bin_predictions = nb_bin_pipeline.predict(X_test_tok)"
   ]
  },
  {
   "cell_type": "code",
   "execution_count": 9,
   "metadata": {},
   "outputs": [
    {
     "name": "stdout",
     "output_type": "stream",
     "text": [
      "Accuracy sore: 0.8954194084201111\n",
      "Classification report:\n",
      "              precision    recall  f1-score   support\n",
      "\n",
      "           0       0.92      0.89      0.90      8713\n",
      "           1       0.87      0.90      0.88      6940\n",
      "\n",
      "    accuracy                           0.90     15653\n",
      "   macro avg       0.89      0.90      0.89     15653\n",
      "weighted avg       0.90      0.90      0.90     15653\n",
      "\n",
      "Confusion matrix \n",
      " [[7786  927]\n",
      " [ 710 6230]]\n"
     ]
    }
   ],
   "source": [
    "model_evaluation(y_test,bin_predictions)"
   ]
  },
  {
   "attachments": {},
   "cell_type": "markdown",
   "metadata": {},
   "source": [
    "# DECISION TREE"
   ]
  },
  {
   "cell_type": "code",
   "execution_count": 10,
   "metadata": {},
   "outputs": [],
   "source": [
    "dt_bin_pipeline = Pipeline([\n",
    "    ('sel', SelectKBest(chi2, k=450)),  # feature selection\n",
    "    ('tfidf', TfidfTransformer()),  # weighting\n",
    "    ('learner', DecisionTreeClassifier(criterion=\"gini\",max_depth=25,min_samples_split=5,min_samples_leaf=5))  # learning algorithm\n",
    "])\n",
    "\n",
    "dt_bin_pipeline.fit(X_train_tok,y_train)\n",
    "bin_predictions = dt_bin_pipeline.predict(X_test_tok)"
   ]
  },
  {
   "cell_type": "code",
   "execution_count": 11,
   "metadata": {},
   "outputs": [
    {
     "name": "stdout",
     "output_type": "stream",
     "text": [
      "Accuracy sore: 0.9171404842522201\n",
      "Classification report:\n",
      "              precision    recall  f1-score   support\n",
      "\n",
      "           0       0.89      0.97      0.93      8713\n",
      "           1       0.95      0.86      0.90      6940\n",
      "\n",
      "    accuracy                           0.92     15653\n",
      "   macro avg       0.92      0.91      0.92     15653\n",
      "weighted avg       0.92      0.92      0.92     15653\n",
      "\n",
      "Confusion matrix \n",
      " [[8417  296]\n",
      " [1001 5939]]\n"
     ]
    }
   ],
   "source": [
    "model_evaluation(y_test,bin_predictions)"
   ]
  },
  {
   "cell_type": "markdown",
   "metadata": {},
   "source": [
    "# KNN"
   ]
  },
  {
   "cell_type": "code",
   "execution_count": 12,
   "metadata": {},
   "outputs": [],
   "source": [
    "knn_pipeline = Pipeline([\n",
    "                (\"sel\", SelectKBest(chi2,k=100)),\n",
    "                (\"tfidf\", TfidfTransformer()),\n",
    "                (\"learner\", KNeighborsClassifier(weights=\"distance\",metric=\"euclidean\",n_neighbors=5))\n",
    "                ])\n",
    "\n",
    "knn_pipeline.fit(X_train_tok,y_train)\n",
    "bin_predictions = knn_pipeline.predict(X_test_tok)"
   ]
  },
  {
   "cell_type": "code",
   "execution_count": 13,
   "metadata": {},
   "outputs": [
    {
     "name": "stdout",
     "output_type": "stream",
     "text": [
      "Accuracy sore: 0.8968887753146362\n",
      "Classification report:\n",
      "              precision    recall  f1-score   support\n",
      "\n",
      "           0       0.86      0.97      0.91      8713\n",
      "           1       0.95      0.81      0.87      6940\n",
      "\n",
      "    accuracy                           0.90     15653\n",
      "   macro avg       0.91      0.89      0.89     15653\n",
      "weighted avg       0.90      0.90      0.90     15653\n",
      "\n",
      "Confusion matrix \n",
      " [[8426  287]\n",
      " [1327 5613]]\n"
     ]
    }
   ],
   "source": [
    "model_evaluation(y_test,bin_predictions)"
   ]
  }
 ],
 "metadata": {
  "kernelspec": {
   "display_name": "base",
   "language": "python",
   "name": "python3"
  },
  "language_info": {
   "codemirror_mode": {
    "name": "ipython",
    "version": 3
   },
   "file_extension": ".py",
   "mimetype": "text/x-python",
   "name": "python",
   "nbconvert_exporter": "python",
   "pygments_lexer": "ipython3",
   "version": "3.9.13 (main, Aug 25 2022, 18:29:29) \n[Clang 12.0.0 ]"
  },
  "orig_nbformat": 4,
  "vscode": {
   "interpreter": {
    "hash": "40d3a090f54c6569ab1632332b64b2c03c39dcf918b08424e98f38b5ae0af88f"
   }
  }
 },
 "nbformat": 4,
 "nbformat_minor": 2
}
